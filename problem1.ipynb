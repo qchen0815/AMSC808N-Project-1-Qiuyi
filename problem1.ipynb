{
 "cells": [
  {
   "cell_type": "code",
   "execution_count": 3,
   "metadata": {},
   "outputs": [],
   "source": [
    "import numpy as np\n",
    "import idx2numpy\n",
    "import matplotlib.pyplot as plt"
   ]
  },
  {
   "cell_type": "markdown",
   "metadata": {},
   "source": [
    "# Load Data"
   ]
  },
  {
   "cell_type": "code",
   "execution_count": 10,
   "metadata": {},
   "outputs": [],
   "source": [
    "train_img = idx2numpy.convert_from_file('data/train-images.idx3-ubyte')\n",
    "train_label = idx2numpy.convert_from_file('data/train-labels.idx1-ubyte')\n",
    "test_img = idx2numpy.convert_from_file('data/t10k-images.idx3-ubyte')\n",
    "test_label = idx2numpy.convert_from_file('data/t10k-labels.idx1-ubyte')"
   ]
  },
  {
   "cell_type": "code",
   "execution_count": 46,
   "metadata": {},
   "outputs": [],
   "source": [
    "def load_data_of_digit(digit, imgs, lbs):\n",
    "    idx = lbs==digit\n",
    "    return imgs[idx]"
   ]
  },
  {
   "cell_type": "code",
   "execution_count": 47,
   "metadata": {},
   "outputs": [],
   "source": [
    "img_1 = load_data_of_digit(1, train_img, train_label)\n",
    "img_7 = load_data_of_digit(7, train_img, train_label)"
   ]
  },
  {
   "cell_type": "markdown",
   "metadata": {},
   "source": [
    "# Model"
   ]
  },
  {
   "cell_type": "code",
   "execution_count": 51,
   "metadata": {},
   "outputs": [],
   "source": [
    "class QuadraticModel:\n",
    "    def __init__(self, in_features):\n",
    "        self.in_features = in_features\n",
    "        self.W = np.random.rand(in_features, in_features)\n",
    "        self.v = np.random.rand(in_features)\n",
    "        self.b = np.random.rand(1)\n",
    "    \n",
    "    def __call__(self, X):\n",
    "        return np.reshape(np.sum(X * (X @ self.W), axis=-1) + X @ self.v + self.b, [-1, 1])\n",
    "    \n",
    "    def test_func(self, X, y):\n",
    "        return y * self(X) # bx1 * bxd = bxd\n",
    "\n",
    "    def _w(self, X):\n",
    "        X1 = np.expand_dims(X, 1)\n",
    "        X2 = np.expand_dims(X, -1)\n",
    "        return X1 * X2, X, np.ones([len(X), 1])\n",
    "    \n",
    "    @property\n",
    "    def w(self):\n",
    "        return self.W, self.v, self.b"
   ]
  },
  {
   "cell_type": "code",
   "execution_count": 52,
   "metadata": {},
   "outputs": [
    {
     "data": {
      "text/plain": [
       "array([[ 8.30101824],\n",
       "       [18.51140928],\n",
       "       [20.11054707],\n",
       "       [13.35529962],\n",
       "       [10.59260836],\n",
       "       [14.26592825],\n",
       "       [16.65403631],\n",
       "       [12.19653204],\n",
       "       [13.55155323],\n",
       "       [13.35332794],\n",
       "       [23.00342792],\n",
       "       [21.54494284],\n",
       "       [17.9913549 ],\n",
       "       [10.23108107],\n",
       "       [20.74742821],\n",
       "       [ 9.08638757],\n",
       "       [18.18391304],\n",
       "       [14.75864826],\n",
       "       [23.61544652],\n",
       "       [17.88369707],\n",
       "       [12.3493116 ],\n",
       "       [19.79821076],\n",
       "       [17.73685936],\n",
       "       [17.40864584],\n",
       "       [ 6.69096447],\n",
       "       [11.70915029],\n",
       "       [16.38579398],\n",
       "       [12.30271294],\n",
       "       [14.83909165],\n",
       "       [ 9.39128553]])"
      ]
     },
     "execution_count": 52,
     "metadata": {},
     "output_type": "execute_result"
    }
   ],
   "source": [
    "q = QuadraticModel(10)\n",
    "x = np.random.rand(30, 10)\n",
    "q(x)"
   ]
  },
  {
   "cell_type": "code",
   "execution_count": 57,
   "metadata": {},
   "outputs": [
    {
     "data": {
      "text/plain": [
       "(30, 1)"
      ]
     },
     "execution_count": 57,
     "metadata": {},
     "output_type": "execute_result"
    }
   ],
   "source": [
    "q._w(x)[2].shape"
   ]
  },
  {
   "cell_type": "markdown",
   "metadata": {},
   "source": [
    "# Loss"
   ]
  },
  {
   "cell_type": "code",
   "execution_count": null,
   "metadata": {},
   "outputs": [],
   "source": [
    "class Loss:\n",
    "    def __init__(self, data, label, batch_size, lam=1e-3):\n",
    "        self.data = data\n",
    "        self.label = label\n",
    "        self.n = batch_size\n",
    "        self.lam = lam\n",
    "        \n",
    "    def __call__(self, model):\n",
    "        X, y = self.sample_batch()\n",
    "        q = model.test_func(X, y)\n",
    "        W, v, b = model.w\n",
    "        L = np.mean(np.log(1 + np.exp(-q))) + 0.5 * self.lam * (np.sum(W ** 2) + np.sum(v ** 2) + np.sum(b ** 2))\n",
    "        L_w = self._w(X, y)\n",
    "        return L, L_w\n",
    "    \n",
    "    def _w(self, model, X, y):\n",
    "        q = model.test_func(X, y) # bx1\n",
    "        coef = - y * np.exp(-q) / (1 + np.exp(-q)) # bx1\n",
    "        W, v, b = model.w\n",
    "        f_W, f_v, f_b = model._w(X) # bxdxd, bxd, bx1\n",
    "        dW = np.mean(coef[:, np.newaxis] * f_W, axis=0) + self.lam * W\n",
    "        dv = np.mean(coef * f_v, axis=0) + self.lam * v\n",
    "        db = np.mean(coef * f_b, axis=0) + self.lam * b\n",
    "        return dW, dv, db\n",
    "    \n",
    "    def sample_batch(self):\n",
    "        if self.n:\n",
    "            idx = np.random.choice(self.n)\n",
    "            X = self.data[idx]\n",
    "            y = self.label[idx]\n",
    "            return X, y\n",
    "        else:\n",
    "            return self.data, self.label"
   ]
  },
  {
   "cell_type": "markdown",
   "metadata": {},
   "source": [
    "# Optimizers"
   ]
  },
  {
   "cell_type": "code",
   "execution_count": null,
   "metadata": {},
   "outputs": [],
   "source": [
    "class _Optimizer:\n",
    "    def __init__(self, solution, alpha, silent=True):\n",
    "        self.solution = solution\n",
    "        self.alpha = alpha\n",
    "        self.silent = silent\n",
    "\n",
    "    @property\n",
    "    def parameters(self):\n",
    "        return self.solution.N.w\n",
    "\n",
    "\n",
    "class SGD(_Optimizer):    \n",
    "    def __call__(self, loss):\n",
    "        f, g, _, _ = loss(self.solution)\n",
    "        self.parameters[...] = self.parameters - self.alpha * g\n",
    "        if not self.silent: return f, g\n",
    "    \n",
    "    def __str__(self) -> str: return 'SGD'\n",
    "\n",
    "\n",
    "class Nesterov(_Optimizer):\n",
    "    def __init__(self, solution, alpha, silent=True):\n",
    "        super().__init__(solution, alpha, silent)\n",
    "        self.k = 0\n",
    "        self.x = np.copy(self.parameters)\n",
    "        \n",
    "    def __call__(self, loss):\n",
    "        f, g, _, _ = loss(self.solution)\n",
    "        x_ = self.parameters - self.alpha * g\n",
    "        self.parameters[...] = (1 + self.mu) * x_ - self.mu * self.x\n",
    "        self.x = x_\n",
    "        if not self.silent: return f, g \n",
    "\n",
    "    @property\n",
    "    def mu(self):\n",
    "        return 1 - 3 / (5 + self.k)\n",
    "    \n",
    "    def __str__(self) -> str: return 'Nesterov'\n",
    "\n",
    "\n",
    "class Adam(_Optimizer):\n",
    "    def __init__(self, solution, alpha, beta_1=0.9, beta_2=0.999, epsilon=1e-8, silent=True):\n",
    "        super().__init__(solution, alpha, silent)\n",
    "        self.beta_1, self.beta_2 = beta_1, beta_2\n",
    "        self.epsilon = epsilon\n",
    "        self.m = 0\n",
    "        self.v = 0\n",
    "        self.k = 0\n",
    "    \n",
    "    def __call__(self, loss):\n",
    "        self.k += 1\n",
    "        f, g, _, _ = loss(self.solution)\n",
    "        self.m = self.beta_1 * self.m + (1-self.beta_1) * g\n",
    "        self.v = self.beta_2 * self.v + (1-self.beta_2) * (g ** 2)\n",
    "        m_hat = self.m / (1 - self.beta_1 ** self.k)\n",
    "        v_hat = self.v / (1 - self.beta_2 ** self.k)\n",
    "        self.parameters[...] = self.parameters - self.alpha * m_hat / (np.sqrt(v_hat) + self.epsilon)\n",
    "        if not self.silent: return f, g\n",
    "    \n",
    "    def __str__(self) -> str: return 'Adam'"
   ]
  }
 ],
 "metadata": {
  "kernelspec": {
   "display_name": "Python 3.9.12 ('base')",
   "language": "python",
   "name": "python3"
  },
  "language_info": {
   "codemirror_mode": {
    "name": "ipython",
    "version": 3
   },
   "file_extension": ".py",
   "mimetype": "text/x-python",
   "name": "python",
   "nbconvert_exporter": "python",
   "pygments_lexer": "ipython3",
   "version": "3.9.12"
  },
  "orig_nbformat": 4,
  "vscode": {
   "interpreter": {
    "hash": "d275ae2dd110ae8ec3aede4c2f3aa121db1a9e4bf32d7fcbeea0ef23bdc3ded4"
   }
  }
 },
 "nbformat": 4,
 "nbformat_minor": 2
}
